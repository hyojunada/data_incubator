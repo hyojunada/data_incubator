{
 "cells": [
  {
   "cell_type": "code",
   "execution_count": 12,
   "metadata": {},
   "outputs": [],
   "source": [
    "import numpy as np\n",
    "import pandas as pd\n",
    "import matplotlib.pyplot as plt"
   ]
  },
  {
   "cell_type": "markdown",
   "metadata": {},
   "source": [
    "# Functions"
   ]
  },
  {
   "cell_type": "code",
   "execution_count": 2,
   "metadata": {},
   "outputs": [],
   "source": [
    "def initiate_position(N, M):\n",
    "    N_circle = np.zeros(N)\n",
    "    for i in range(M):\n",
    "        N_circle[i] = 1\n",
    "    return N_circle"
   ]
  },
  {
   "cell_type": "code",
   "execution_count": 3,
   "metadata": {},
   "outputs": [],
   "source": [
    "#find movable location:\n",
    "def find_movable_cars(N_circle, N):\n",
    "    movable_car_index = []\n",
    "    for i in range(N): #i is the locatio of the cars\n",
    "        #cannot be last i\n",
    "        if i != N-1:\n",
    "            if N_circle[i] == 1 and N_circle[i+1] == 0:\n",
    "                #movable\n",
    "                movable_car_index.append((i, i+1))\n",
    "        else: #when i is the last loc\n",
    "            if N_circle[i] == 1 and N_circle[0] == 0:\n",
    "                movable_car_index.append((i, 0))\n",
    "    return movable_car_index"
   ]
  },
  {
   "cell_type": "code",
   "execution_count": 4,
   "metadata": {},
   "outputs": [],
   "source": [
    "def move_cars(N_circle, movable_cars):\n",
    "    move_car = movable_cars[np.random.choice(range(len(movable_cars)))]\n",
    "    N_circle[move_car[0]] = 0\n",
    "    N_circle[move_car[1]] = 1\n",
    "    return N_circle"
   ]
  },
  {
   "cell_type": "markdown",
   "metadata": {},
   "source": [
    "# Run"
   ]
  },
  {
   "cell_type": "code",
   "execution_count": 29,
   "metadata": {},
   "outputs": [],
   "source": [
    "# define \n",
    "N = 25\n",
    "M = 10\n",
    "T = 50"
   ]
  },
  {
   "cell_type": "code",
   "execution_count": 30,
   "metadata": {
    "scrolled": false
   },
   "outputs": [],
   "source": [
    "A_averages = []\n",
    "S_averages = []\n",
    "repeat = 999999\n",
    "As = []\n",
    "Ss = []\n",
    "for kkkkk in range(repeat):\n",
    "    car_circle = initiate_position(N, M)\n",
    "    t = T\n",
    "    while t:\n",
    "        movable_cars = find_movable_cars(car_circle, N)\n",
    "        car_circle = move_cars(car_circle, movable_cars)\n",
    "        t -= 1\n",
    "    A = np.dot(np.array(range(N)),car_circle)/M\n",
    "    S = np.sqrt(np.dot(np.square(np.array(range(N))), car_circle)/M - np.square(A))\n",
    "    As.append(A)\n",
    "    Ss.append(S)"
   ]
  },
  {
   "cell_type": "code",
   "execution_count": 31,
   "metadata": {},
   "outputs": [],
   "source": [
    "df = pd.DataFrame(index=range(len(As)), columns=['A','S'], data={'A':As,'S':Ss})"
   ]
  },
  {
   "cell_type": "code",
   "execution_count": 32,
   "metadata": {},
   "outputs": [
    {
     "name": "stdout",
     "output_type": "stream",
     "text": [
      "9.237617237617238\n",
      "6.109172547142578\n"
     ]
    },
    {
     "data": {
      "image/png": "[encoded data removed]",
      "text/plain": [
       "<Figure size 432x288 with 1 Axes>"
      ]
     },
     "metadata": {
      "needs_background": "light"
     },
     "output_type": "display_data"
    }
   ],
   "source": [
    "plt.plot(df.expanding().mean()['A'])\n",
    "plt.xscale('log')\n",
    "print(df.A.mean())\n",
    "print(df.S.mean())"
   ]
  },
  {
   "cell_type": "code",
   "execution_count": 33,
   "metadata": {},
   "outputs": [
    {
     "name": "stdout",
     "output_type": "stream",
     "text": [
      "0.7662981007901972\n",
      "0.8308611146810813\n"
     ]
    }
   ],
   "source": [
    "print(df.A.std())\n",
    "print(df.S.std())"
   ]
  },
  {
   "cell_type": "code",
   "execution_count": 34,
   "metadata": {},
   "outputs": [
    {
     "name": "stdout",
     "output_type": "stream",
     "text": [
      "4.86 ms ± 61.5 µs per loop (mean ± std. dev. of 7 runs, 100 loops each)\n"
     ]
    }
   ],
   "source": [
    "%%timeit\n",
    "df.A.std()"
   ]
  },
  {
   "cell_type": "code",
   "execution_count": 36,
   "metadata": {},
   "outputs": [
    {
     "name": "stdout",
     "output_type": "stream",
     "text": [
      "56.2 ms ± 527 µs per loop (mean ± std. dev. of 7 runs, 10 loops each)\n"
     ]
    }
   ],
   "source": [
    "%%timeit\n",
    "np.std(As)"
   ]
  },
  {
   "cell_type": "code",
   "execution_count": null,
   "metadata": {},
   "outputs": [],
   "source": []
  }
 ],
 "metadata": {
  "kernelspec": {
   "display_name": "Python 3",
   "language": "python",
   "name": "python3"
  },
  "language_info": {
   "codemirror_mode": {
    "name": "ipython",
    "version": 3
   },
   "file_extension": ".py",
   "mimetype": "text/x-python",
   "name": "python",
   "nbconvert_exporter": "python",
   "pygments_lexer": "ipython3",
   "version": "3.7.2"
  }
 },
 "nbformat": 4,
 "nbformat_minor": 2
}
