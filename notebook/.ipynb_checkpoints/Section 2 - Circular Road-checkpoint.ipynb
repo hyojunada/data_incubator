{
 "cells": [
  {
   "cell_type": "code",
   "execution_count": 6,
   "metadata": {},
   "outputs": [],
   "source": [
    "import numpy as np"
   ]
  },
  {
   "cell_type": "code",
   "execution_count": 59,
   "metadata": {},
   "outputs": [],
   "source": [
    "# define \n",
    "N = 10\n",
    "M = 5\n",
    "\n",
    "repeat = 100\n",
    "p = 0.5"
   ]
  },
  {
   "cell_type": "code",
   "execution_count": 60,
   "metadata": {},
   "outputs": [],
   "source": [
    "def initiate_position(N, M):\n",
    "    N_circle = np.zeros(N)\n",
    "    for i in range(M):\n",
    "        N_circle[i] = 1\n",
    "    return N_circle"
   ]
  },
  {
   "cell_type": "code",
   "execution_count": 61,
   "metadata": {},
   "outputs": [],
   "source": [
    "#find movable location:\n",
    "def find_movable_cars(N_circle, N):\n",
    "    movable_car_index = []\n",
    "    for i in range(N): #i is the locatio of the cars\n",
    "        #cannot be last i\n",
    "        if i != N-1:\n",
    "            if N_circle[i] == 1 and N_circle[i+1] == 0:\n",
    "                #movable\n",
    "                movable_car_index.append((i, i+1))\n",
    "        else: #when i is the last loc\n",
    "            if N_circle[i] == 1 and N_circle[0] == 0:\n",
    "                movable_car_index.append((i, 0))\n",
    "    return movable_car_index"
   ]
  },
  {
   "cell_type": "code",
   "execution_count": 62,
   "metadata": {},
   "outputs": [],
   "source": [
    "def move_cars(N_circle, movable_cars):\n",
    "    move_car = movable_cars[np.random.choice(range(len(movable_cars)))]\n",
    "    N_circle[move_car[0]] = 0\n",
    "    N_circle[move_car[1]] = 1\n",
    "    return N_circle"
   ]
  },
  {
   "cell_type": "code",
   "execution_count": 63,
   "metadata": {},
   "outputs": [
    {
     "name": "stdout",
     "output_type": "stream",
     "text": [
      "10\n",
      "9\n",
      "8\n",
      "7\n",
      "6\n",
      "5\n",
      "4\n",
      "3\n",
      "2\n",
      "1\n"
     ]
    }
   ],
   "source": [
    "repeat =1\n",
    "\n",
    "while repeat:\n",
    "    car_circle = initiate_position(N, M)\n",
    "    T = 10\n",
    "    while T:\n",
    "        print(T)\n",
    "        movable_cars = find_movable_cars(car_circle, N)\n",
    "        car_circle = move_cars(car_circle, movable_cars)\n",
    "        T -= 1\n",
    "    A = np.dot(np.array(range(N)),car_circle)/M\n",
    "    S = np.sqrt(np.dot(np.square(np.array(range(N))), car_circle)/M - np.square(A))\n",
    "    repeat -= 1"
   ]
  },
  {
   "cell_type": "code",
   "execution_count": 77,
   "metadata": {},
   "outputs": [],
   "source": [
    "A = np.dot(np.array(range(N)),car_circle)/M"
   ]
  },
  {
   "cell_type": "code",
   "execution_count": 80,
   "metadata": {},
   "outputs": [],
   "source": [
    "S = np.sqrt(np.dot(np.square(np.array(range(N))), car_circle)/M - np.square(A))"
   ]
  },
  {
   "cell_type": "code",
   "execution_count": 81,
   "metadata": {},
   "outputs": [
    {
     "data": {
      "text/plain": [
       "2.449489742783178"
      ]
     },
     "execution_count": 81,
     "metadata": {},
     "output_type": "execute_result"
    }
   ],
   "source": [
    "S"
   ]
  },
  {
   "cell_type": "code",
   "execution_count": 82,
   "metadata": {},
   "outputs": [
    {
     "data": {
      "text/plain": [
       "(array([3, 4, 6, 7]),)"
      ]
     },
     "execution_count": 82,
     "metadata": {},
     "output_type": "execute_result"
    }
   ],
   "source": [
    "positions = np.nonzero(np.array(range(N)) * car_circle)\n",
    "positions"
   ]
  },
  {
   "cell_type": "code",
   "execution_count": 83,
   "metadata": {},
   "outputs": [
    {
     "data": {
      "text/plain": [
       "(5.0, 1.5811388300841898)"
      ]
     },
     "execution_count": 83,
     "metadata": {},
     "output_type": "execute_result"
    }
   ],
   "source": [
    "np.mean(positions), np.std(positions)"
   ]
  },
  {
   "cell_type": "code",
   "execution_count": 67,
   "metadata": {},
   "outputs": [
    {
     "data": {
      "text/plain": [
       "4.0"
      ]
     },
     "execution_count": 67,
     "metadata": {},
     "output_type": "execute_result"
    }
   ],
   "source": [
    "np.sum(positions)/M"
   ]
  },
  {
   "cell_type": "code",
   "execution_count": 73,
   "metadata": {},
   "outputs": [
    {
     "data": {
      "text/plain": [
       "110"
      ]
     },
     "execution_count": 73,
     "metadata": {},
     "output_type": "execute_result"
    }
   ],
   "source": [
    "9+16+36+49"
   ]
  },
  {
   "cell_type": "code",
   "execution_count": 71,
   "metadata": {},
   "outputs": [
    {
     "data": {
      "text/plain": [
       "array([1., 0., 0., 1., 1., 0., 1., 1., 0., 0.])"
      ]
     },
     "execution_count": 71,
     "metadata": {},
     "output_type": "execute_result"
    }
   ],
   "source": [
    "car_circle"
   ]
  },
  {
   "cell_type": "code",
   "execution_count": 84,
   "metadata": {},
   "outputs": [
    {
     "data": {
      "text/plain": [
       "2.449489742783178"
      ]
     },
     "execution_count": 84,
     "metadata": {},
     "output_type": "execute_result"
    }
   ],
   "source": [
    "np.std([0, 3,4, 6, 7])"
   ]
  },
  {
   "cell_type": "code",
   "execution_count": null,
   "metadata": {},
   "outputs": [],
   "source": []
  }
 ],
 "metadata": {
  "kernelspec": {
   "display_name": "Python 3",
   "language": "python",
   "name": "python3"
  },
  "language_info": {
   "codemirror_mode": {
    "name": "ipython",
    "version": 3
   },
   "file_extension": ".py",
   "mimetype": "text/x-python",
   "name": "python",
   "nbconvert_exporter": "python",
   "pygments_lexer": "ipython3",
   "version": "3.7.2"
  }
 },
 "nbformat": 4,
 "nbformat_minor": 2
}
